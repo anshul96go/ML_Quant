{
 "cells": [
  {
   "cell_type": "code",
   "execution_count": 28,
   "metadata": {},
   "outputs": [],
   "source": [
    "### Quantiacs Trading System Template\n",
    "# This program may take more than 10 minutes\n",
    "# import necessary Packages\n",
    "import quantiacsToolbox\n",
    "import numpy as np\n",
    "from sklearn import svm\n",
    "import pandas as pd\n",
    "import matplotlib.pyplot as plt"
   ]
  },
  {
   "cell_type": "code",
   "execution_count": 37,
   "metadata": {},
   "outputs": [],
   "source": [
    "#initials for testing the code\n",
    "\n",
    "#reading file \n",
    "F_AD = pd.read_csv(r'/home/anshul/Desktop/Quantiacs/tickerData/F_AD.txt')\n",
    "#getting features\n",
    "CLOSE = np.array(F_AD.loc[:252-1, [' CLOSE']])\n",
    "#plt.plot(CLOSE)\n",
    "VOL = np.array(F_AD.loc[:252-1, [' VOL']])\n",
    "#plt.plot(VOL)\n",
    "OI = np.array(F_AD.loc[:252-1, [' VOL']])\n",
    "#plt.plot(OI)\n",
    "HIGH = np.array(F_AD.loc[:252-1, [' HIGH']])\n",
    "#plt.plot(HIGH)\n",
    "LOW = np.array(F_AD.loc[:252-1, [' LOW']])\n",
    "#plt.plot(LOW)\n",
    "OPEN = np.array(F_AD.loc[:252-1, [' OPEN']])"
   ]
  },
  {
   "cell_type": "code",
   "execution_count": null,
   "metadata": {},
   "outputs": [],
   "source": [
    "#code\n",
    "lookback = CLOSE.shape[0]\n",
    "gap=5\n",
    "X = np.concatenate([CLOSE[i:i + gap] for i in range(lookback - gap)], axis=1).T\n",
    "y = np.sign((CLOSE[gap:lookback] - CLOSE[gap - 1:lookback - 1]).T[0])\n",
    "#print(y[y==0])\n",
    "clf = svm.SVC()\n",
    "clf.fit(X, y)\n",
    "print(clf.predict(CLOSE[-gap:].T))\n",
    "#plt.plot(y)\n",
    "plt.plot(clf.predict(CLOSE[-gap:].T))"
   ]
  },
  {
   "cell_type": "code",
   "execution_count": 36,
   "metadata": {},
   "outputs": [
    {
     "data": {
      "text/plain": [
       "[<matplotlib.lines.Line2D at 0x7fba0e184da0>]"
      ]
     },
     "execution_count": 36,
     "metadata": {},
     "output_type": "execute_result"
    }
   ],
   "source": [
    "plt.plot(CLOSE)"
   ]
  }
 ],
 "metadata": {
  "kernelspec": {
   "display_name": "Python 3",
   "language": "python",
   "name": "python3"
  },
  "language_info": {
   "codemirror_mode": {
    "name": "ipython",
    "version": 3
   },
   "file_extension": ".py",
   "mimetype": "text/x-python",
   "name": "python",
   "nbconvert_exporter": "python",
   "pygments_lexer": "ipython3",
   "version": "3.6.5"
  }
 },
 "nbformat": 4,
 "nbformat_minor": 2
}
