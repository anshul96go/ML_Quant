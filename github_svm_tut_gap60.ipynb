{
 "cells": [
  {
   "cell_type": "code",
   "execution_count": 3,
   "metadata": {},
   "outputs": [],
   "source": [
    "### Quantiacs Trading System Template\n",
    "# This program may take more than 10 minutes\n",
    "# import necessary Packages\n",
    "import quantiacsToolbox\n",
    "import numpy as np\n",
    "from sklearn import svm\n",
    "import pandas as pd\n",
    "import matplotlib.pyplot as plt"
   ]
  },
  {
   "cell_type": "code",
   "execution_count": 4,
   "metadata": {},
   "outputs": [],
   "source": [
    "class myStrategy(object):\n",
    "    def myTradingSystem(self,DATE, OPEN, HIGH, LOW, CLOSE, VOL, OI, P, R, RINFO, exposure, equity, settings):\n",
    "        \"\"\"\n",
    "        For 4 lookback days and 3 markets, CLOSE is a numpy array looks like\n",
    "        [[ 12798.   11537.5   9010. ]\n",
    "         [ 12822.   11487.5   9020. ]\n",
    "         [ 12774.   11462.5   8940. ]\n",
    "         [ 12966.   11587.5   9220. ]]\n",
    "        \"\"\"\n",
    "\n",
    "        # define helper function\n",
    "        # use close price predict the trend of the next day\n",
    "        def predict(CLOSE, gap):\n",
    "            lookback = CLOSE.shape[0]\n",
    "            X = np.concatenate([CLOSE[i:i + gap] for i in range(lookback - gap)], axis=1).T\n",
    "            y = np.sign((CLOSE[gap:lookback] - CLOSE[gap - 1:lookback - 1]).T[0])\n",
    "            y[y==0] = 1\n",
    "\n",
    "            clf = svm.SVC()\n",
    "            clf.fit(X, y)\n",
    "\n",
    "            return clf.predict(CLOSE[-gap:].T)\n",
    "\n",
    "        nMarkets = len(settings['markets'])\n",
    "        gap = settings['gap']\n",
    "\n",
    "        pos = np.zeros((1, nMarkets), dtype='float')\n",
    "        for i in range(nMarkets):\n",
    "            try:\n",
    "                pos[0, i] = predict(CLOSE[:, i].reshape(-1, 1), gap, )\n",
    "            # for NaN data set position to 0\n",
    "            except ValueError:\n",
    "                pos[0, i] = 0.\n",
    "\n",
    "        return pos, settings\n",
    "\n",
    "\n",
    "    def mySettings(self):\n",
    "        \"\"\" Define your trading system settings here \"\"\"\n",
    "\n",
    "        settings = {}\n",
    "\n",
    "        # Futures Contracts\n",
    "        settings['markets'] = ['CASH', 'F_AD', 'F_AE', 'F_AH', 'F_AX', 'F_BC', 'F_BG', 'F_BO', 'F_BP', 'F_C',  'F_CA',\n",
    "                               'F_CC', 'F_CD', 'F_CF', 'F_CL', 'F_CT', 'F_DL', 'F_DM', 'F_DT', 'F_DX', 'F_DZ', 'F_EB',\n",
    "                               'F_EC', 'F_ED', 'F_ES', 'F_F',  'F_FB', 'F_FC', 'F_FL', 'F_FM', 'F_FP', 'F_FV', 'F_FY',\n",
    "                               'F_GC', 'F_GD', 'F_GS', 'F_GX', 'F_HG', 'F_HO', 'F_HP', 'F_JY', 'F_KC', 'F_LB', 'F_LC',\n",
    "                               'F_LN', 'F_LQ', 'F_LR', 'F_LU', 'F_LX', 'F_MD', 'F_MP', 'F_ND', 'F_NG', 'F_NQ', 'F_NR',\n",
    "                               'F_NY', 'F_O',  'F_OJ', 'F_PA', 'F_PL', 'F_PQ', 'F_RB', 'F_RF', 'F_RP', 'F_RR', 'F_RU',\n",
    "                               'F_RY', 'F_S',  'F_SB', 'F_SF', 'F_SH', 'F_SI', 'F_SM', 'F_SS', 'F_SX', 'F_TR', 'F_TU',\n",
    "                               'F_TY', 'F_UB', 'F_US', 'F_UZ', 'F_VF', 'F_VT', 'F_VW', 'F_VX',  'F_W', 'F_XX', 'F_YM',\n",
    "                               'F_ZQ']\n",
    "\n",
    "        settings['lookback'] = 252\n",
    "        settings['budget'] = 10 ** 6\n",
    "        settings['slippage'] = 0.05\n",
    "\n",
    "        settings['gap'] = 60\n",
    "\n",
    "        return settings"
   ]
  },
  {
   "cell_type": "code",
   "execution_count": 5,
   "metadata": {},
   "outputs": [
    {
     "name": "stdout",
     "output_type": "stream",
     "text": [
      "Loading Data...\n",
      "Done!\n",
      "Evaluating Trading System <class '__main__.myStrategy'>\n"
     ]
    },
    {
     "name": "stderr",
     "output_type": "stream",
     "text": [
      "/home/anshul/anaconda3/lib/python3.6/site-packages/quantiacsToolbox/quantiacsToolbox.py:881: RuntimeWarning: invalid value encountered in true_divide\n",
      "  position = position / np.sum(abs(position))\n",
      "/home/anshul/anaconda3/lib/python3.6/site-packages/quantiacsToolbox/quantiacsToolbox.py:897: RuntimeWarning: divide by zero encountered in true_divide\n",
      "  marketRets = np.float64(dataDict['CLOSE'][1:, :] - dataDict['CLOSE'][:-1, :] - dataDict['RINFO'][1:, :]) / dataDict['CLOSE'][:-1, :]\n",
      "/home/anshul/anaconda3/lib/python3.6/site-packages/quantiacsToolbox/quantiacsToolbox.py:1288: RuntimeWarning: invalid value encountered in double_scalars\n",
      "  sharpeRatio = returnYearly / volaYearly\n",
      "/home/anshul/anaconda3/lib/python3.6/site-packages/quantiacsToolbox/quantiacsToolbox.py:1295: RuntimeWarning: invalid value encountered in double_scalars\n",
      "  sortino = returnYearly / downsideVolaYearly\n",
      "No handles with labels found to put in legend.\n"
     ]
    }
   ],
   "source": [
    "result = quantiacsToolbox.runts(myStrategy)"
   ]
  }
 ],
 "metadata": {
  "kernelspec": {
   "display_name": "Python 3",
   "language": "python",
   "name": "python3"
  },
  "language_info": {
   "codemirror_mode": {
    "name": "ipython",
    "version": 3
   },
   "file_extension": ".py",
   "mimetype": "text/x-python",
   "name": "python",
   "nbconvert_exporter": "python",
   "pygments_lexer": "ipython3",
   "version": "3.6.5"
  }
 },
 "nbformat": 4,
 "nbformat_minor": 2
}
