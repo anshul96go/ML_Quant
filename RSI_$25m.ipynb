{
 "cells": [
  {
   "cell_type": "code",
   "execution_count": 1,
   "metadata": {},
   "outputs": [],
   "source": [
    "import quantiacsToolbox\n",
    "import numpy as np"
   ]
  },
  {
   "cell_type": "code",
   "execution_count": 14,
   "metadata": {},
   "outputs": [],
   "source": [
    "class myStrategy(object):\n",
    "\n",
    "    \n",
    "    def myTradingSystem(self,DATE, OPEN, HIGH, LOW, CLOSE, VOL, OI, P, R, RINFO, exposure, equity, settings):\n",
    "        \n",
    "        def RSI(CLOSE, period):\n",
    "            closeMom = CLOSE[1:,:] - CLOSE[:-1,:]\n",
    "            up = closeMom >= 0\n",
    "            down = closeMom < 0\n",
    "            out = 100 - 100/(1 + (np.mean(up[-(period+1):,:], axis=0)/ np.mean(down[-(period+1):,:], axis=0)))\n",
    "            return out\n",
    "        \n",
    "        nMarkets = len(settings['markets'])\n",
    "        dur = settings['duration']\n",
    "        rsi1 = RSI(CLOSE,100)\n",
    "        rsi2 = RSI(CLOSE,50)\n",
    "        pos = ((rsi1-50) + (rsi2-50))/2\n",
    "        pos[pos<0] = pos[pos<0]/2\n",
    "        pos[np.isinf(pos)]=0\n",
    "\n",
    "        return pos, settings\n",
    "\n",
    "    \n",
    "    def mySettings(self):\n",
    "        \"\"\" Define your trading system settings here \"\"\"\n",
    "\n",
    "        settings = {}\n",
    "\n",
    "        # Futures Contracts\n",
    "#         settings['markets'] = ['CASH', 'F_AD', 'F_AE', 'F_AH', 'F_AX', 'F_BC', 'F_BG', 'F_BO', 'F_BP', 'F_C',  'F_CA',\n",
    "#                                'F_CC', 'F_CD', 'F_CF', 'F_CL', 'F_CT', 'F_DL', 'F_DM', 'F_DT', 'F_DX', 'F_DZ', 'F_EB',\n",
    "#                                'F_EC', 'F_ED', 'F_ES', 'F_F',  'F_FB', 'F_FC', 'F_FL', 'F_FM', 'F_FP', 'F_FV', 'F_FY',\n",
    "#                                'F_GC', 'F_GD', 'F_GS', 'F_GX', 'F_HG', 'F_HO', 'F_HP', 'F_JY', 'F_KC', 'F_LB', 'F_LC',\n",
    "#                                'F_LN', 'F_LQ', 'F_LR', 'F_LU', 'F_LX', 'F_MD', 'F_MP', 'F_ND', 'F_NG', 'F_NQ', 'F_NR',\n",
    "#                                'F_NY', 'F_O',  'F_OJ', 'F_PA', 'F_PL', 'F_PQ', 'F_RB', 'F_RF', 'F_RP', 'F_RR', 'F_RU',\n",
    "#                                'F_RY', 'F_S',  'F_SB', 'F_SF', 'F_SH', 'F_SI', 'F_SM', 'F_SS', 'F_SX', 'F_TR', 'F_TU',\n",
    "#                                'F_TY', 'F_UB', 'F_US', 'F_UZ', 'F_VF', 'F_VT', 'F_VW', 'F_VX',  'F_W', 'F_XX', 'F_YM',\n",
    "#                               'F_ZQ']\n",
    "        #markets to  decide:\n",
    "        #currency -> 'US-Dollar Index', 'euro_fx', 'jap_yen', 'safrica rand', \n",
    "        #agri -> 'corn', 'cotton', coffee, sugar, wheat, rice, \n",
    "        #index -> volatility index, bloomberg commodity index, russel200, dax, cac \n",
    "        #energy -> nat gas,brent crude, newcastle coal,\n",
    "        #int rate -> 30 day fed, eurodollar\n",
    "        #bond-> 2 yr tre, 10 yr, 30 yr, euro bond\n",
    "        #metal -> gold, cu, \n",
    "        #stocks -> NA\n",
    "        settings['markets'] = ['F_DX', 'F_EC', 'F_JY', 'F_TR', \n",
    "                                'F_C', 'F_CT', 'F_KC', 'F_SB', 'F_W',  'F_NR', \n",
    "                                'F_VX', 'F_AH', 'F_RU', 'F_AX', 'F_CA', \n",
    "                                'F_NG', 'F_BC', 'F_LQ',\n",
    "                                'F_ZQ', 'F_ED', \n",
    "                                'F_TU', 'F_TY', 'F_US', 'F_DT',  \n",
    "                                'F_GC', 'F_HG']\n",
    "        settings['lookback'] = 504\n",
    "        settings['budget'] = 10 ** 6\n",
    "        settings['slippage'] = 0.05\n",
    "\n",
    "        settings['duration'] = 20\n",
    "\n",
    "        return settings"
   ]
  },
  {
   "cell_type": "code",
   "execution_count": 15,
   "metadata": {},
   "outputs": [
    {
     "name": "stdout",
     "output_type": "stream",
     "text": [
      "copying data from cache\n",
      "Evaluating Trading System <class '__main__.myStrategy'>\n"
     ]
    },
    {
     "name": "stderr",
     "output_type": "stream",
     "text": [
      "/home/anshul/anaconda3/lib/python3.6/site-packages/ipykernel_launcher.py:8: RuntimeWarning: invalid value encountered in greater_equal\n",
      "  \n",
      "/home/anshul/anaconda3/lib/python3.6/site-packages/ipykernel_launcher.py:9: RuntimeWarning: invalid value encountered in less\n",
      "  if __name__ == '__main__':\n",
      "/home/anshul/anaconda3/lib/python3.6/site-packages/ipykernel_launcher.py:10: RuntimeWarning: invalid value encountered in true_divide\n",
      "  # Remove the CWD from sys.path while we load stuff.\n",
      "/home/anshul/anaconda3/lib/python3.6/site-packages/ipykernel_launcher.py:18: RuntimeWarning: invalid value encountered in less\n",
      "/home/anshul/anaconda3/lib/python3.6/site-packages/ipykernel_launcher.py:10: RuntimeWarning: divide by zero encountered in true_divide\n",
      "  # Remove the CWD from sys.path while we load stuff.\n"
     ]
    }
   ],
   "source": [
    "result = quantiacsToolbox.runts(myStrategy)"
   ]
  }
 ],
 "metadata": {
  "kernelspec": {
   "display_name": "Python 3",
   "language": "python",
   "name": "python3"
  },
  "language_info": {
   "codemirror_mode": {
    "name": "ipython",
    "version": 3
   },
   "file_extension": ".py",
   "mimetype": "text/x-python",
   "name": "python",
   "nbconvert_exporter": "python",
   "pygments_lexer": "ipython3",
   "version": "3.6.5"
  }
 },
 "nbformat": 4,
 "nbformat_minor": 2
}
