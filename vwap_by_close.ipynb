{
 "cells": [
  {
   "cell_type": "code",
   "execution_count": 1,
   "metadata": {},
   "outputs": [],
   "source": [
    "### Quantiacs Trading System Template\n",
    "# This program may take more than 10 minutes\n",
    "# import necessary Packages\n",
    "import quantiacsToolbox\n",
    "import numpy as np\n",
    "from sklearn import svm\n",
    "import pandas as pd\n",
    "import matplotlib.pyplot as plt"
   ]
  },
  {
   "cell_type": "code",
   "execution_count": 2,
   "metadata": {},
   "outputs": [],
   "source": [
    "#initials for testing the code\n",
    "\n",
    "#reading file \n",
    "F_AD = pd.read_csv(r'/home/anshul/Desktop/Quantiacs/tickerData/F_AD.txt')\n",
    "\n",
    "#getting features\n",
    "CLOSE = np.array(F_AD.loc[:252-1, [' CLOSE']])\n",
    "#plt.plot(CLOSE)\n",
    "VOL = np.array(F_AD.loc[:252-1, [' VOL']])\n",
    "#plt.plot(VOL)\n",
    "OI = np.array(F_AD.loc[:252-1, [' VOL']])\n",
    "#plt.plot(OI)\n",
    "HIGH = np.array(F_AD.loc[:252-1, [' HIGH']])\n",
    "#plt.plot(HIGH)\n",
    "LOW = np.array(F_AD.loc[:252-1, [' LOW']])\n",
    "#plt.plot(LOW)\n",
    "OPEN = np.array(F_AD.loc[:252-1, [' OPEN']])"
   ]
  },
  {
   "cell_type": "code",
   "execution_count": 3,
   "metadata": {},
   "outputs": [
    {
     "name": "stdout",
     "output_type": "stream",
     "text": [
      "[1.]\n"
     ]
    },
    {
     "data": {
      "text/plain": [
       "[<matplotlib.lines.Line2D at 0x7f66650daa20>]"
      ]
     },
     "execution_count": 3,
     "metadata": {},
     "output_type": "execute_result"
    }
   ],
   "source": [
    "#code\n",
    "lookback = CLOSE.shape[0]\n",
    "gap=5\n",
    "X = np.concatenate([CLOSE[i:i + gap] for i in range(lookback - gap)], axis=1).T\n",
    "y = np.sign((CLOSE[gap:lookback] - CLOSE[gap - 1:lookback - 1]).T[0])\n",
    "#print(y[y==0])\n",
    "clf = svm.SVC()\n",
    "clf.fit(X, y)\n",
    "print(clf.predict(CLOSE[-gap:].T))\n",
    "#plt.plot(y)\n",
    "plt.plot(clf.predict(CLOSE[-gap:].T))"
   ]
  },
  {
   "cell_type": "code",
   "execution_count": 34,
   "metadata": {},
   "outputs": [
    {
     "name": "stdout",
     "output_type": "stream",
     "text": [
      "[0.99579135]\n"
     ]
    }
   ],
   "source": [
    "#code -> vwap/close\n",
    "#20 days\n",
    "vol = np.nan_to_num(VOL[-20:]).reshape(-1,1)\n",
    "close = np.nan_to_num(CLOSE[-20:]).reshape(-1,1)\n",
    "vwap = np.sum(np.multiply(vol,close))/np.sum(vol)\n",
    "alpha = vwap/close[-1]\n",
    "print(alpha)\n",
    "mean = np.mean(vwap/close)\n",
    "\n",
    "\n",
    "if alpha > 1:\n",
    "    pos=1\n",
    "elif alpha < 0.3:\n",
    "    pos=-1\n",
    "else:\n",
    "    pos=0"
   ]
  },
  {
   "cell_type": "code",
   "execution_count": 20,
   "metadata": {},
   "outputs": [
    {
     "name": "stdout",
     "output_type": "stream",
     "text": [
      "[[1]\n",
      " [2]\n",
      " [3]\n",
      " [4]] [[1]\n",
      " [2]\n",
      " [3]\n",
      " [4]]\n",
      "[[ 1]\n",
      " [ 4]\n",
      " [ 9]\n",
      " [16]]\n"
     ]
    }
   ],
   "source": [
    "a = np.array([1,2,3,4]).reshape(-1,1)\n",
    "b = np.array([1,2,3,4]).reshape(-1,1)\n",
    "print(a,b)\n",
    "print(np.multiply(a,b))"
   ]
  },
  {
   "cell_type": "code",
   "execution_count": 13,
   "metadata": {},
   "outputs": [],
   "source": [
    "class myStrategy(object):\n",
    "    def myTradingSystem(self,DATE, OPEN, HIGH, LOW, CLOSE, VOL, OI, P, R, RINFO, exposure, equity, settings):\n",
    "        \n",
    "        nMarkets = len(settings['markets'])\n",
    "        dur = settings['duration']\n",
    "        \n",
    "        vec_vwap = np.zeros((1, nMarkets), dtype='float')\n",
    "        pos = np.zeros((1, nMarkets), dtype='float')\n",
    "        for i in range(nMarkets):\n",
    "            close = np.nan_to_num(CLOSE[-dur:, i]).reshape(-1,1)\n",
    "            vol = np.nan_to_num(VOL[-dur:, i]).reshape(-1,1)\n",
    "            vwap = np.sum(np.multiply(vol,close))/np.sum(vol)\n",
    "            alpha = np.nan_to_num(vwap/close[-1])\n",
    "            vec_vwap[0, i] = alpha\n",
    "        #print(vec_vwap)\n",
    "        mean = np.mean(vec_vwap)\n",
    "        #print('mean:', mean)\n",
    "        for i in range(nMarkets):\n",
    "            if vec_vwap[0,i] >= 1:\n",
    "                pos[0, i]=-1\n",
    "            elif vec_vwap[0,i] <= 1:\n",
    "                pos[0, i]=1\n",
    "            else:\n",
    "                pos[0, i]=0\n",
    "\n",
    "\n",
    "        return pos, settings\n",
    "\n",
    "\n",
    "    def mySettings(self):\n",
    "        \"\"\" Define your trading system settings here \"\"\"\n",
    "\n",
    "        settings = {}\n",
    "\n",
    "        # Futures Contracts\n",
    "#         settings['markets'] = ['CASH', 'F_AD', 'F_AE', 'F_AH', 'F_AX', 'F_BC', 'F_BG', 'F_BO', 'F_BP', 'F_C',  'F_CA',\n",
    "#                                'F_CC', 'F_CD', 'F_CF', 'F_CL', 'F_CT', 'F_DL', 'F_DM', 'F_DT', 'F_DX', 'F_DZ', 'F_EB',\n",
    "#                                'F_EC', 'F_ED', 'F_ES', 'F_F',  'F_FB', 'F_FC', 'F_FL', 'F_FM', 'F_FP', 'F_FV', 'F_FY',\n",
    "#                                'F_GC', 'F_GD', 'F_GS', 'F_GX', 'F_HG', 'F_HO', 'F_HP', 'F_JY', 'F_KC', 'F_LB', 'F_LC',\n",
    "#                                'F_LN', 'F_LQ', 'F_LR', 'F_LU', 'F_LX', 'F_MD', 'F_MP', 'F_ND', 'F_NG', 'F_NQ', 'F_NR',\n",
    "#                                'F_NY', 'F_O',  'F_OJ', 'F_PA', 'F_PL', 'F_PQ', 'F_RB', 'F_RF', 'F_RP', 'F_RR', 'F_RU',\n",
    "#                                'F_RY', 'F_S',  'F_SB', 'F_SF', 'F_SH', 'F_SI', 'F_SM', 'F_SS', 'F_SX', 'F_TR', 'F_TU',\n",
    "#                                'F_TY', 'F_UB', 'F_US', 'F_UZ', 'F_VF', 'F_VT', 'F_VW', 'F_VX',  'F_W', 'F_XX', 'F_YM',\n",
    "#                               'F_ZQ']\n",
    "        #markets to  decide:\n",
    "        #currency -> 'US-Dollar Index', 'euro_fx', 'jap_yen', 'safrica rand', \n",
    "        #agri -> 'corn', 'cotton', coffee, sugar, wheat, rice, \n",
    "        #index -> volatility index, bloomberg commodity index, russel200, dax, cac \n",
    "        #energy -> nat gas,brent crude, newcastle coal,\n",
    "        #int rate -> 30 day fed, eurodollar\n",
    "        #bond-> 2 yr tre, 10 yr, 30 yr, euro bond\n",
    "        #metal -> gold, cu, \n",
    "        #stocks -> NA\n",
    "        settings['markets'] = ['F_DX', 'F_EC', 'F_JY', 'F_TR', \n",
    "                                'F_C', 'F_CT', 'F_KC', 'F_SB', 'F_W',  'F_NR', \n",
    "                                'F_VX', 'F_AH', 'F_RU', 'F_AX', 'F_CA', \n",
    "                                'F_NG', 'F_BC', 'F_LQ',\n",
    "                                'F_ZQ', 'F_ED', \n",
    "                                'F_TU', 'F_TY', 'F_US', 'F_DT',  \n",
    "                                'F_GC', 'F_HG']\n",
    "        settings['lookback'] = 252\n",
    "        settings['budget'] = 10 ** 6\n",
    "        settings['slippage'] = 0.05\n",
    "\n",
    "        settings['duration'] = 20\n",
    "\n",
    "        return settings"
   ]
  },
  {
   "cell_type": "code",
   "execution_count": 14,
   "metadata": {},
   "outputs": [
    {
     "name": "stdout",
     "output_type": "stream",
     "text": [
      "copying data from cache\n",
      "Evaluating Trading System <class '__main__.myStrategy'>\n"
     ]
    },
    {
     "name": "stderr",
     "output_type": "stream",
     "text": [
      "/home/anshul/anaconda3/lib/python3.6/site-packages/ipykernel_launcher.py:12: RuntimeWarning: invalid value encountered in double_scalars\n",
      "  if sys.path[0] == '':\n"
     ]
    }
   ],
   "source": [
    "result = quantiacsToolbox.runts(myStrategy)"
   ]
  }
 ],
 "metadata": {
  "kernelspec": {
   "display_name": "Python 3",
   "language": "python",
   "name": "python3"
  },
  "language_info": {
   "codemirror_mode": {
    "name": "ipython",
    "version": 3
   },
   "file_extension": ".py",
   "mimetype": "text/x-python",
   "name": "python",
   "nbconvert_exporter": "python",
   "pygments_lexer": "ipython3",
   "version": "3.6.5"
  }
 },
 "nbformat": 4,
 "nbformat_minor": 2
}
