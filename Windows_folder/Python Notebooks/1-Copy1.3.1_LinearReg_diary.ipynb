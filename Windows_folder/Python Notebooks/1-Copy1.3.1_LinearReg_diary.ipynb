{
 "cells": [
  {
   "cell_type": "code",
   "execution_count": 89,
   "metadata": {},
   "outputs": [],
   "source": [
    "import quantiacsToolbox\n",
    "import matplotlib.pyplot as plt\n",
    "import numpy as np\n",
    "import pandas as pd\n",
    "from sklearn import linear_model\n",
    "from sklearn.preprocessing import PolynomialFeatures\n",
    "%matplotlib inline"
   ]
  },
  {
   "cell_type": "code",
   "execution_count": 149,
   "metadata": {},
   "outputs": [],
   "source": [
    "#TS code II\n",
    "class mystrategy(object):\n",
    "    def myTradingSystem(self, DATE, OPEN, HIGH, LOW, CLOSE, VOL, OI, P, R, RINFO, exposure, equity, settings):\n",
    "        #function def -> last ke 20, 60 din lega\n",
    "        def bollingerbands(a, n=20, m=60):\n",
    "            sma20 = np.nansum(a[-20:])/20\n",
    "            sma60 = np.nansum(a[-60:])/60 \n",
    "            std5 = np.std(a[-5:],ddof=1)\n",
    "            std20 = np.std(a[-20:],ddof=1)\n",
    "            std60 = np.std(a[-60:],ddof=1)\n",
    "            return sma20, sma60, std5, std20, std60\n",
    "        #$OPtimise it using settings[]\n",
    "        def predict(close, lookback):\n",
    "            ##training\n",
    "                 #X = np.concatenate([CLOSE[i:i + gap] for i in range(lookback - gap)], axis=1).T \n",
    "            X_close = np.concatenate([close[i+55:i+60] for i in range(0, lookback-60)], axis=1).T\n",
    "            #print('Shape:', X_close.shape)\n",
    "            [n,m] = X_close.shape\n",
    "            X_others = np.zeros((n,5), dtype=np.float)\n",
    "            #print(X_others.shape)\n",
    "            for j in range(lookback-60):\n",
    "                sma20, sma40, std5, std20, std60 = bollingerbands(close[j:j+60]) \n",
    "                #print(sma20, sma40, std)\n",
    "                X_others[j,:] = [sma20, sma40, std5, std20, std60]\n",
    "            #print(X_others.shape)\n",
    "            #print(X_close.shape)\n",
    "            X = np.append(X_close, X_others, axis=1)\n",
    "            y = close[60:]                                 #y = CLOSE[60:]\n",
    "            #print(X.shape, y.shape)\n",
    "            reg = linear_model.LinearRegression()\n",
    "            try:\n",
    "                reg.fit(X,y)\n",
    "                ###predicting\n",
    "                x_others = np.zeros((5,1)).T\n",
    "                x_close = np.zeros((5,1)).T\n",
    "                sma20, sma40, std5, std20, std60 = bollingerbands(close[:])\n",
    "                x_others[:] = np.array([sma20, sma40, std5, std20, std60])\n",
    "                x_close = close[-5:].T\n",
    "                #print(x_close.shape, x_others.shape)\n",
    "                x = np.append(x_close, x_others, axis=1)\n",
    "                #print(x.shape)\n",
    "                pred_pr = reg.predict(x)\n",
    "                last_pr = close[-1]\n",
    "                if pred_pr >= last_pr*(1.02):\n",
    "                    position = 1.00\n",
    "                elif pred_pr <= last_pr*(0.98):\n",
    "                    position = -1.00\n",
    "                else:\n",
    "                    position = 0.00\n",
    "            except ValueError:\n",
    "                position = 0.00\n",
    "                \n",
    "            return position\n",
    "        \n",
    "        # Get parameters from setting\n",
    "        nMarkets = len(settings['markets'])\n",
    "        lookback = settings['lookback']\n",
    "        dimension = settings['dimension']\n",
    "        threshold = settings['threshold']\n",
    "        \n",
    "        pos = np.zeros((1,nMarkets), dtype=np.float)\n",
    "        \n",
    "        poly = PolynomialFeatures(degree=dimension)\n",
    "        reg = linear_model.LinearRegression()\n",
    "        #x_others = np.zeros((5,1)).T\n",
    "        #x_close = np.zeros((5,1)).T\n",
    "        \n",
    "        for market in range(nMarkets):\n",
    "            pos[0, market] = predict(CLOSE[:, market].reshape(-1,1), lookback)\n",
    "    \n",
    "        return pos, settings\n",
    "                \n",
    "                         \n",
    "    def mySettings(self):\n",
    "        #\"\"\" Define your trading system settings here \"\"\"\n",
    "\n",
    "        settings = {}\n",
    "\n",
    "        # Futures Contracts\n",
    "        settings['markets'] = ['CASH', 'F_AD', 'F_BO', 'F_BP', 'F_C', 'F_CC', 'F_CD','F_CL'] \n",
    "#         'F_CT', 'F_DX', 'F_EC', 'F_ED', 'F_ES', 'F_FC', 'F_FV', 'F_GC',\n",
    "#                                'F_HG', 'F_HO', 'F_JY', 'F_KC', 'F_LB', 'F_LC', 'F_LN', 'F_MD', 'F_MP',\n",
    "#                                'F_NG', 'F_NQ', 'F_NR', 'F_O', 'F_OJ', 'F_PA', 'F_PL', 'F_RB', 'F_RU',\n",
    "#                                'F_S', 'F_SB', 'F_SF', 'F_SI', 'F_SM', 'F_TU', 'F_TY', 'F_US', 'F_W', 'F_XX',\n",
    "#                                'F_YM']\n",
    "\n",
    "        #settings['beginInSample'] = '19900101'\n",
    "        #settings['endInSample'] = '20170522'\n",
    "        settings['lookback'] = 252\n",
    "        settings['budget'] = 10 ** 6\n",
    "        settings['slippage'] = 0.05\n",
    "        settings['dimension'] = 5\n",
    "        settings['threshold'] = 0.3\n",
    "\n",
    "        return settings   "
   ]
  },
  {
   "cell_type": "code",
   "execution_count": null,
   "metadata": {},
   "outputs": [
    {
     "name": "stdout",
     "output_type": "stream",
     "text": [
      "copying data from cache\n",
      "Evaluating Trading System <class '__main__.mystrategy'>\n"
     ]
    },
    {
     "name": "stderr",
     "output_type": "stream",
     "text": [
      "/home/anshul/anaconda3/lib/python3.6/site-packages/quantiacsToolbox/quantiacsToolbox.py:881: RuntimeWarning: invalid value encountered in true_divide\n",
      "  position = position / np.sum(abs(position))\n"
     ]
    }
   ],
   "source": [
    "result = quantiacsToolbox.runts(mystrategy)"
   ]
  },
  {
   "cell_type": "code",
   "execution_count": 99,
   "metadata": {},
   "outputs": [
    {
     "name": "stdout",
     "output_type": "stream",
     "text": [
      "(1, 5)\n"
     ]
    }
   ],
   "source": [
    "x_others = np.zeros((5,1)).T\n",
    "print(x_others.shape)"
   ]
  }
 ],
 "metadata": {
  "kernelspec": {
   "display_name": "Python 3",
   "language": "python",
   "name": "python3"
  },
  "language_info": {
   "codemirror_mode": {
    "name": "ipython",
    "version": 3
   },
   "file_extension": ".py",
   "mimetype": "text/x-python",
   "name": "python",
   "nbconvert_exporter": "python",
   "pygments_lexer": "ipython3",
   "version": "3.6.5"
  }
 },
 "nbformat": 4,
 "nbformat_minor": 2
}
