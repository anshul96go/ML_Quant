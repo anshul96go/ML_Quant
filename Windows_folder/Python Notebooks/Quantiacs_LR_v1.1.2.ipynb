{
 "cells": [
  {
   "cell_type": "code",
   "execution_count": null,
   "metadata": {},
   "outputs": [],
   "source": [
    "import quantiacsToolbox\n",
    "import matplotlib.pyplot as plt\n",
    "import numpy as np\n",
    "import pandas as pd\n",
    "from sklearn import linear_model\n",
    "from sklearn.preprocessing import PolynomialFeatures\n",
    "%matplotlib inline"
   ]
  },
  {
   "cell_type": "code",
   "execution_count": null,
   "metadata": {},
   "outputs": [],
   "source": [
    "class myStrategy(object):\n",
    "\n",
    "    def myTradingSystem(self, DATE, OPEN, HIGH, LOW, CLOSE, VOL, OI, P, R, RINFO, exposure, equity, settings):\n",
    "        \"\"\" This system uses linear regression to allocate capital into the desired equities\"\"\"\n",
    "\n",
    "        # Get parameters from setting\n",
    "        nMarkets = len(settings['markets'])\n",
    "        lookback = settings['lookback']\n",
    "        dimension = settings['dimension']\n",
    "        threshold = settings['threshold']\n",
    "\n",
    "        pos = np.zeros(nMarkets, dtype=np.float)\n",
    "\n",
    "        poly = PolynomialFeatures(degree=dimension)\n",
    "        for market in range(nMarkets):\n",
    "            reg = linear_model.LinearRegression()\n",
    "            try:\n",
    "                #predicting volume\n",
    "                reg.fit(poly.fit_transform(np.arange(lookback).reshape(-1,1)), VOL[:,market])\n",
    "                vol_predict = reg.predict(poly.fit_transform(np.array([[lookback]])))\n",
    "                #predicting open price\n",
    "                reg.fit(poly.fit_transform(np.arange(lookback).reshape(-1,1)), OPEN[:,market])\n",
    "                open_predict = reg.predict(poly.fit_transform(np.array([[lookback]])))\n",
    "                #predicting close price\n",
    "                X = np.append(VOL[:,market], OPEN[:,market], axis=1)\n",
    "                reg.fit(X,CLOSE[:,market])\n",
    "                x = np.append(vol_predict,open_predict,axis=1)\n",
    "                close_predict = reg.predict(x)\n",
    "                \n",
    "                trend = (close_predict - CLOSE[-1, market]) / CLOSE[-1, market]\n",
    "\n",
    "                if abs(trend[0]) < threshold:\n",
    "                    trend[0] = 0\n",
    "\n",
    "                pos[market] = np.sign(trend)\n",
    "\n",
    "            # for NaN data set position to 0\n",
    "            except ValueError:\n",
    "                pos[market] = .0\n",
    "\n",
    "        return pos, settings\n",
    "\n",
    "\n",
    "    def mySettings(self):\n",
    "        \"\"\" Define your trading system settings here \"\"\"\n",
    "\n",
    "        settings = {}\n",
    "\n",
    "        Futures Contracts\n",
    "        settings['markets'] = ['F_AD','F_BO','F_BP','F_C','F_CC','F_CD','F_CL','F_CT','F_DX','F_EC','F_ED','F_ES','F_FC','F_FV','F_GC','F_HG','F_HO','F_JY','F_KC','F_LB','F_LC','F_LN','F_MD','F_MP','F_NG','F_NQ','F_NR','F_O','F_OJ','F_PA','F_PL','F_RB','F_RU','F_S','F_SB','F_SF','F_SI','F_SM','F_TU','F_TY','F_US','F_W','F_XX','F_YM','F_AX','F_CA','F_DT','F_UB','F_UZ','F_GS','F_LX','F_SS','F_DL','F_ZQ','F_VX','F_AE','F_BG','F_BC','F_LU','F_DM','F_AH','F_CF','F_DZ','F_FB','F_FL','F_FM','F_FP','F_FY','F_GX','F_HP','F_LR','F_LQ','F_ND','F_NY','F_PQ','F_RR','F_RF','F_RP','F_RY','F_SH','F_SX','F_TR','F_EB','F_VF','F_VT','F_VW','F_GD','F_F']\n",
    "        #settings['markets'] = ['CASH', 'F_S', 'F_AD']\n",
    "        settings['lookback'] = 252\n",
    "        settings['budget'] = 10 ** 6\n",
    "        settings['slippage'] = 0.05\n",
    "\n",
    "        settings['threshold'] = 0.05\n",
    "        settings['dimension'] = 3\n",
    "\n",
    "        return settings"
   ]
  },
  {
   "cell_type": "code",
   "execution_count": null,
   "metadata": {},
   "outputs": [],
   "source": [
    "result = quantiacsToolbox.runts(myStrategy)"
   ]
  },
  {
   "cell_type": "code",
   "execution_count": null,
   "metadata": {},
   "outputs": [],
   "source": []
  }
 ],
 "metadata": {
  "kernelspec": {
   "display_name": "Python 3",
   "language": "python",
   "name": "python3"
  },
  "language_info": {
   "codemirror_mode": {
    "name": "ipython",
    "version": 3
   },
   "file_extension": ".py",
   "mimetype": "text/x-python",
   "name": "python",
   "nbconvert_exporter": "python",
   "pygments_lexer": "ipython3",
   "version": "3.6.5"
  }
 },
 "nbformat": 4,
 "nbformat_minor": 2
}
