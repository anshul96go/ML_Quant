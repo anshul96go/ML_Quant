{
 "cells": [
  {
   "cell_type": "code",
   "execution_count": 1,
   "metadata": {},
   "outputs": [],
   "source": [
    "import quantiacsToolbox\n",
    "import numpy as np\n",
    "import pandas as pd\n",
    "import matplotlib.pyplot as plt"
   ]
  },
  {
   "cell_type": "code",
   "execution_count": 2,
   "metadata": {},
   "outputs": [],
   "source": [
    "class myStrategy(object):\n",
    "    \n",
    "    def myTradingSystem(self, DATE, OPEN, HIGH, LOW, CLOSE, VOL, OI, P, R, RINFO, exposure, equity, settings):\n",
    "\n",
    "        def bollingerBands(a, n=20):\n",
    "            sma = np.nansum(a[-n:]) / n\n",
    "            std = np.std(a[-n:], ddof=1)\n",
    "            return sma, sma + 2 * std, sma - 2 * std\n",
    "\n",
    "        nMarkets = len(settings['markets'])\n",
    "        threshold = settings['threshold']\n",
    "        pos = np.zeros((1, nMarkets), dtype=np.float)\n",
    "\n",
    "        for market in range(nMarkets):\n",
    "            sma, upperBand, lowerBand = bollingerBands(CLOSE[:, market])\n",
    "            currentPrice = CLOSE[-1, market]\n",
    "\n",
    "            if currentPrice >= upperBand + (upperBand - lowerBand) * threshold:\n",
    "                pos[0, market] = -1\n",
    "            elif currentPrice <= lowerBand - (upperBand - lowerBand) * threshold:\n",
    "                pos[0, market] = 1\n",
    "\n",
    "        return pos, settings\n",
    "\n",
    "\n",
    "    def mySettings(self):\n",
    "        \"\"\" Define your trading system settings here \"\"\"\n",
    "\n",
    "        settings = {}\n",
    "\n",
    "        # Futures Contracts\n",
    "        settings['markets'] = ['CASH', 'F_AD', 'F_BO', 'F_BP', 'F_C', 'F_CC', 'F_CD',\n",
    "                               'F_CL', 'F_CT', 'F_DX', 'F_EC', 'F_ED', 'F_ES', 'F_FC', 'F_FV', 'F_GC',\n",
    "                               'F_HG', 'F_HO', 'F_JY', 'F_KC', 'F_LB', 'F_LC', 'F_LN', 'F_MD', 'F_MP',\n",
    "                               'F_NG', 'F_NQ', 'F_NR', 'F_O', 'F_OJ', 'F_PA', 'F_PL', 'F_RB', 'F_RU',\n",
    "                               'F_S', 'F_SB', 'F_SF', 'F_SI', 'F_SM', 'F_TU', 'F_TY', 'F_US', 'F_W', 'F_XX',\n",
    "                               'F_YM']\n",
    "\n",
    "        settings['beginInSample'] = '19900101'\n",
    "        settings['endInSample'] = '20170522'\n",
    "        settings['lookback'] = 20\n",
    "        settings['budget'] = 10 ** 6\n",
    "        settings['slippage'] = 0.05\n",
    "\n",
    "        settings['threshold'] = 0.3\n",
    "\n",
    "        return settings"
   ]
  },
  {
   "cell_type": "code",
   "execution_count": 3,
   "metadata": {},
   "outputs": [
    {
     "name": "stdout",
     "output_type": "stream",
     "text": [
      "Loading Data...\n",
      "Done!\n",
      "Evaluating Trading System <class '__main__.myStrategy'>\n",
      "Error evaluating trading system\n",
      "<class 'KeyboardInterrupt'>\n",
      "Traceback (most recent call last):\n",
      "  File \"/home/anshul/anaconda3/lib/python3.6/site-packages/quantiacsToolbox/quantiacsToolbox.py\", line 871, in runts\n",
      "    position, settings = TSobject.myTradingSystem(*argList)\n",
      "  File \"<ipython-input-2-db7f2bff41f4>\", line 15, in myTradingSystem\n",
      "    sma, upperBand, lowerBand = bollingerBands(CLOSE[:, market])\n",
      "  File \"<ipython-input-2-db7f2bff41f4>\", line 7, in bollingerBands\n",
      "    std = np.std(a[-n:], ddof=1)\n",
      "  File \"/home/anshul/anaconda3/lib/python3.6/site-packages/numpy/core/fromnumeric.py\", line 3038, in std\n",
      "    **kwargs)\n",
      "  File \"/home/anshul/anaconda3/lib/python3.6/site-packages/numpy/core/_methods.py\", line 140, in _std\n",
      "    keepdims=keepdims)\n",
      "  File \"/home/anshul/anaconda3/lib/python3.6/site-packages/numpy/core/_methods.py\", line 117, in _var\n",
      "    x = asanyarray(arr - arrmean)\n",
      "  File \"/home/anshul/anaconda3/lib/python3.6/site-packages/numpy/core/numeric.py\", line 553, in asanyarray\n",
      "    return array(a, dtype, copy=False, order=order, subok=True)\n",
      "KeyboardInterrupt\n",
      "\n"
     ]
    }
   ],
   "source": [
    "result = quantiacsToolbox.runts(myStrategy)"
   ]
  }
 ],
 "metadata": {
  "kernelspec": {
   "display_name": "Python 3",
   "language": "python",
   "name": "python3"
  },
  "language_info": {
   "codemirror_mode": {
    "name": "ipython",
    "version": 3
   },
   "file_extension": ".py",
   "mimetype": "text/x-python",
   "name": "python",
   "nbconvert_exporter": "python",
   "pygments_lexer": "ipython3",
   "version": "3.6.5"
  }
 },
 "nbformat": 4,
 "nbformat_minor": 2
}
